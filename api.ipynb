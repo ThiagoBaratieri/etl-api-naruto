{
 "cells": [
  {
   "cell_type": "code",
   "execution_count": 22,
   "metadata": {},
   "outputs": [
    {
     "name": "stdout",
     "output_type": "stream",
     "text": [
      "Nome:  Black Zetsu\n",
      "Criador:  Kaguya Ōtsutsuki\n",
      "Jutsu:  Naruto: Ultimate Ninja Online14 April 201320 July 2016\n",
      "Espécie:  Artificial Human\n",
      "KekkeiGenkai:  ['Wood Release', 'Rinnegan', 'Sharingan', 'Mangekyō Sharingan']\n",
      "Classificação:  ['Jinchūriki', 'S-rank', 'Sensor Type']\n"
     ]
    }
   ],
   "source": [
    "import requests\n",
    "import pandas as pd\n",
    "import pprint\n",
    "\n",
    "base_url = 'https://narutodb.xyz/api/akatsuki'\n",
    "\n",
    "response = requests.get(base_url)\n",
    "\n",
    "if response.status_code == 200:\n",
    "    data = response.json()\n",
    "\n",
    "# pprint.pprint(data['akatsuki'][0])\n",
    "print(\"Nome: \", data['akatsuki'][0]['name'])\n",
    "print(\"Criador: \", data['akatsuki'][0]['family']['creator'])\n",
    "print(\"Jutsu: \", data['akatsuki'][0]['jutsu'][0])\n",
    "# print(data['akatsuki'][0]['personal'])\n",
    "print(\"Espécie: \", data['akatsuki'][0]['personal']['species'])\n",
    "print(\"KekkeiGenkai: \", data['akatsuki'][0]['personal']['kekkeiGenkai'])\n",
    "print(\"Classificação: \", data['akatsuki'][0]['personal']['classification'])\n"
   ]
  }
 ],
 "metadata": {
  "kernelspec": {
   "display_name": "Python 3",
   "language": "python",
   "name": "python3"
  },
  "language_info": {
   "codemirror_mode": {
    "name": "ipython",
    "version": 3
   },
   "file_extension": ".py",
   "mimetype": "text/x-python",
   "name": "python",
   "nbconvert_exporter": "python",
   "pygments_lexer": "ipython3",
   "version": "3.12.5"
  }
 },
 "nbformat": 4,
 "nbformat_minor": 2
}
